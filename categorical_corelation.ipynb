{
 "cells": [
  {
   "cell_type": "code",
   "execution_count": 1,
   "id": "e23e6459",
   "metadata": {},
   "outputs": [],
   "source": [
    "import pandas as pd\n",
    "import numpy as np\n",
    "import matplotlib.pyplot as plt"
   ]
  },
  {
   "cell_type": "code",
   "execution_count": 2,
   "id": "7de2c190",
   "metadata": {},
   "outputs": [],
   "source": [
    "pd.set_option(\"display.max_columns\", None)\n",
    "pd.set_option(\"display.max_rows\", None)"
   ]
  },
  {
   "cell_type": "code",
   "execution_count": 3,
   "id": "0941e335",
   "metadata": {},
   "outputs": [
    {
     "name": "stderr",
     "output_type": "stream",
     "text": [
      "C:\\Users\\15341\\AppData\\Local\\Temp\\ipykernel_21764\\4150579324.py:5: DtypeWarning: Columns (2,30,31,125) have mixed types. Specify dtype option on import or set low_memory=False.\n",
      "  df = pd.read_csv(\"C:/Users/15341/Desktop/HNBPROJ/Kau/final/final_data_with_Loan.csv\", encoding=encoding)\n"
     ]
    }
   ],
   "source": [
    "encodings_to_try = ['utf-8-sig', 'latin-1', 'ISO-8859-1']\n",
    "\n",
    "for encoding in encodings_to_try:\n",
    "    try:\n",
    "        df = pd.read_csv(\"C:/Users/15341/Desktop/HNBPROJ/Kau/final/final_data_with_Loan.csv\", encoding=encoding)\n",
    "        break\n",
    "    except UnicodeDecodeError:\n",
    "        continue"
   ]
  },
  {
   "cell_type": "code",
   "execution_count": 4,
   "id": "82fa80df",
   "metadata": {},
   "outputs": [],
   "source": [
    "df=df[[\n",
    "\"REGION_CD\",\n",
    "\"ACCOUNT_JOINT\",\n",
    "\"NPA_FLAG\",\n",
    "\"E_BANKING_ACCOUNTS\",\n",
    "\"SOLO_ACCOUNTS\",\n",
    "\"PAYFAST_ACCOUNT\",\n",
    "'LNAMOUNT']]"
   ]
  },
  {
   "cell_type": "code",
   "execution_count": 5,
   "id": "5e43fb61",
   "metadata": {},
   "outputs": [
    {
     "data": {
      "text/plain": [
       "(4549303, 7)"
      ]
     },
     "execution_count": 5,
     "metadata": {},
     "output_type": "execute_result"
    }
   ],
   "source": [
    "df.shape"
   ]
  },
  {
   "cell_type": "code",
   "execution_count": 6,
   "id": "0b05f033",
   "metadata": {},
   "outputs": [
    {
     "data": {
      "text/html": [
       "<div>\n",
       "<style scoped>\n",
       "    .dataframe tbody tr th:only-of-type {\n",
       "        vertical-align: middle;\n",
       "    }\n",
       "\n",
       "    .dataframe tbody tr th {\n",
       "        vertical-align: top;\n",
       "    }\n",
       "\n",
       "    .dataframe thead th {\n",
       "        text-align: right;\n",
       "    }\n",
       "</style>\n",
       "<table border=\"1\" class=\"dataframe\">\n",
       "  <thead>\n",
       "    <tr style=\"text-align: right;\">\n",
       "      <th></th>\n",
       "      <th>REGION_CD</th>\n",
       "      <th>ACCOUNT_JOINT</th>\n",
       "      <th>NPA_FLAG</th>\n",
       "      <th>E_BANKING_ACCOUNTS</th>\n",
       "      <th>SOLO_ACCOUNTS</th>\n",
       "      <th>PAYFAST_ACCOUNT</th>\n",
       "      <th>LNAMOUNT</th>\n",
       "    </tr>\n",
       "  </thead>\n",
       "  <tbody>\n",
       "    <tr>\n",
       "      <th>0</th>\n",
       "      <td>3</td>\n",
       "      <td>NaN</td>\n",
       "      <td>NaN</td>\n",
       "      <td>NaN</td>\n",
       "      <td>NaN</td>\n",
       "      <td>NaN</td>\n",
       "      <td>NaN</td>\n",
       "    </tr>\n",
       "    <tr>\n",
       "      <th>1</th>\n",
       "      <td>10</td>\n",
       "      <td>NaN</td>\n",
       "      <td>Y</td>\n",
       "      <td>1.0</td>\n",
       "      <td>Y</td>\n",
       "      <td>NaN</td>\n",
       "      <td>11000000.0</td>\n",
       "    </tr>\n",
       "    <tr>\n",
       "      <th>2</th>\n",
       "      <td>1</td>\n",
       "      <td>NaN</td>\n",
       "      <td>NaN</td>\n",
       "      <td>1.0</td>\n",
       "      <td>NaN</td>\n",
       "      <td>NaN</td>\n",
       "      <td>NaN</td>\n",
       "    </tr>\n",
       "    <tr>\n",
       "      <th>3</th>\n",
       "      <td>3</td>\n",
       "      <td>NaN</td>\n",
       "      <td>NaN</td>\n",
       "      <td>NaN</td>\n",
       "      <td>NaN</td>\n",
       "      <td>NaN</td>\n",
       "      <td>NaN</td>\n",
       "    </tr>\n",
       "    <tr>\n",
       "      <th>4</th>\n",
       "      <td>2</td>\n",
       "      <td>NaN</td>\n",
       "      <td>NaN</td>\n",
       "      <td>NaN</td>\n",
       "      <td>NaN</td>\n",
       "      <td>NaN</td>\n",
       "      <td>NaN</td>\n",
       "    </tr>\n",
       "  </tbody>\n",
       "</table>\n",
       "</div>"
      ],
      "text/plain": [
       "   REGION_CD ACCOUNT_JOINT NPA_FLAG  E_BANKING_ACCOUNTS SOLO_ACCOUNTS  \\\n",
       "0          3           NaN      NaN                 NaN           NaN   \n",
       "1         10           NaN        Y                 1.0             Y   \n",
       "2          1           NaN      NaN                 1.0           NaN   \n",
       "3          3           NaN      NaN                 NaN           NaN   \n",
       "4          2           NaN      NaN                 NaN           NaN   \n",
       "\n",
       "  PAYFAST_ACCOUNT    LNAMOUNT  \n",
       "0             NaN         NaN  \n",
       "1             NaN  11000000.0  \n",
       "2             NaN         NaN  \n",
       "3             NaN         NaN  \n",
       "4             NaN         NaN  "
      ]
     },
     "execution_count": 6,
     "metadata": {},
     "output_type": "execute_result"
    }
   ],
   "source": [
    "df.head(5)"
   ]
  },
  {
   "cell_type": "code",
   "execution_count": 7,
   "id": "54ccf472",
   "metadata": {},
   "outputs": [],
   "source": [
    "df[\"LNAMOUNT\"] = df[\"LNAMOUNT\"].fillna(0)"
   ]
  },
  {
   "cell_type": "code",
   "execution_count": 8,
   "id": "3c564d3d",
   "metadata": {},
   "outputs": [],
   "source": [
    "df[\"ACCOUNT_JOINT\"].fillna(\"N\", inplace=True)"
   ]
  },
  {
   "cell_type": "code",
   "execution_count": 9,
   "id": "a270605a",
   "metadata": {},
   "outputs": [],
   "source": [
    "df[\"NPA_FLAG\"].fillna(\"N\", inplace=True)"
   ]
  },
  {
   "cell_type": "code",
   "execution_count": 10,
   "id": "d1f64978",
   "metadata": {},
   "outputs": [],
   "source": [
    "df[\"SOLO_ACCOUNTS\"].fillna(\"N\", inplace=True)"
   ]
  },
  {
   "cell_type": "code",
   "execution_count": 11,
   "id": "9cf73719",
   "metadata": {},
   "outputs": [],
   "source": [
    "df[\"PAYFAST_ACCOUNT\"].fillna(\"N\", inplace=True)"
   ]
  },
  {
   "cell_type": "code",
   "execution_count": 12,
   "id": "2ca6bc69",
   "metadata": {},
   "outputs": [],
   "source": [
    "df[\"E_BANKING_ACCOUNTS\"] = (df['E_BANKING_ACCOUNTS'] > 0).astype(int)"
   ]
  },
  {
   "cell_type": "code",
   "execution_count": 13,
   "id": "93e962d9",
   "metadata": {},
   "outputs": [],
   "source": [
    "df['E_BANKING_ACCOUNTS'].replace({1: 'Y',  None: 'N'}, inplace=True)"
   ]
  },
  {
   "cell_type": "code",
   "execution_count": 14,
   "id": "800b495f",
   "metadata": {},
   "outputs": [
    {
     "data": {
      "text/plain": [
       "REGION_CD             0\n",
       "ACCOUNT_JOINT         0\n",
       "NPA_FLAG              0\n",
       "E_BANKING_ACCOUNTS    0\n",
       "SOLO_ACCOUNTS         0\n",
       "PAYFAST_ACCOUNT       0\n",
       "LNAMOUNT              0\n",
       "dtype: int64"
      ]
     },
     "execution_count": 14,
     "metadata": {},
     "output_type": "execute_result"
    }
   ],
   "source": [
    "df.isna().sum()"
   ]
  },
  {
   "cell_type": "code",
   "execution_count": 15,
   "id": "dbc4aab4",
   "metadata": {},
   "outputs": [
    {
     "data": {
      "text/html": [
       "<div>\n",
       "<style scoped>\n",
       "    .dataframe tbody tr th:only-of-type {\n",
       "        vertical-align: middle;\n",
       "    }\n",
       "\n",
       "    .dataframe tbody tr th {\n",
       "        vertical-align: top;\n",
       "    }\n",
       "\n",
       "    .dataframe thead th {\n",
       "        text-align: right;\n",
       "    }\n",
       "</style>\n",
       "<table border=\"1\" class=\"dataframe\">\n",
       "  <thead>\n",
       "    <tr style=\"text-align: right;\">\n",
       "      <th></th>\n",
       "      <th>REGION_CD</th>\n",
       "      <th>ACCOUNT_JOINT</th>\n",
       "      <th>NPA_FLAG</th>\n",
       "      <th>E_BANKING_ACCOUNTS</th>\n",
       "      <th>SOLO_ACCOUNTS</th>\n",
       "      <th>PAYFAST_ACCOUNT</th>\n",
       "      <th>LNAMOUNT</th>\n",
       "    </tr>\n",
       "  </thead>\n",
       "  <tbody>\n",
       "    <tr>\n",
       "      <th>0</th>\n",
       "      <td>3</td>\n",
       "      <td>N</td>\n",
       "      <td>N</td>\n",
       "      <td>0</td>\n",
       "      <td>N</td>\n",
       "      <td>N</td>\n",
       "      <td>0.0</td>\n",
       "    </tr>\n",
       "    <tr>\n",
       "      <th>1</th>\n",
       "      <td>10</td>\n",
       "      <td>N</td>\n",
       "      <td>Y</td>\n",
       "      <td>Y</td>\n",
       "      <td>Y</td>\n",
       "      <td>N</td>\n",
       "      <td>11000000.0</td>\n",
       "    </tr>\n",
       "    <tr>\n",
       "      <th>2</th>\n",
       "      <td>1</td>\n",
       "      <td>N</td>\n",
       "      <td>N</td>\n",
       "      <td>Y</td>\n",
       "      <td>N</td>\n",
       "      <td>N</td>\n",
       "      <td>0.0</td>\n",
       "    </tr>\n",
       "    <tr>\n",
       "      <th>3</th>\n",
       "      <td>3</td>\n",
       "      <td>N</td>\n",
       "      <td>N</td>\n",
       "      <td>0</td>\n",
       "      <td>N</td>\n",
       "      <td>N</td>\n",
       "      <td>0.0</td>\n",
       "    </tr>\n",
       "    <tr>\n",
       "      <th>4</th>\n",
       "      <td>2</td>\n",
       "      <td>N</td>\n",
       "      <td>N</td>\n",
       "      <td>0</td>\n",
       "      <td>N</td>\n",
       "      <td>N</td>\n",
       "      <td>0.0</td>\n",
       "    </tr>\n",
       "  </tbody>\n",
       "</table>\n",
       "</div>"
      ],
      "text/plain": [
       "   REGION_CD ACCOUNT_JOINT NPA_FLAG E_BANKING_ACCOUNTS SOLO_ACCOUNTS  \\\n",
       "0          3             N        N                  0             N   \n",
       "1         10             N        Y                  Y             Y   \n",
       "2          1             N        N                  Y             N   \n",
       "3          3             N        N                  0             N   \n",
       "4          2             N        N                  0             N   \n",
       "\n",
       "  PAYFAST_ACCOUNT    LNAMOUNT  \n",
       "0               N         0.0  \n",
       "1               N  11000000.0  \n",
       "2               N         0.0  \n",
       "3               N         0.0  \n",
       "4               N         0.0  "
      ]
     },
     "execution_count": 15,
     "metadata": {},
     "output_type": "execute_result"
    }
   ],
   "source": [
    "df.head()"
   ]
  },
  {
   "cell_type": "code",
   "execution_count": 16,
   "id": "88a8e457",
   "metadata": {},
   "outputs": [],
   "source": [
    "bin_edges = [0,  100001, 500001,1000001,2000001,5000001,10000001, float('inf')]\n",
    "bin_labels = [ \"LNAMOUNT <=1 Lakh\",\"1 Lakh < LNAMOUNT <= 5 Lakh\",\n",
    "              \"5 Lakh < LNAMOUNT <= 1M\",\"1M < LNAMOUNT <= 2M\",\"2M < LNAMOUNT <= 5M\",\"5M < LNAMOUNT <= 10M\",'LNAMOUNT > 10M']\n",
    "\n",
    "\n",
    "df['LNAMOUNT'] = pd.cut(df['LNAMOUNT'], bins=bin_edges, labels=bin_labels, right=False)"
   ]
  },
  {
   "cell_type": "code",
   "execution_count": 17,
   "id": "edace8c5",
   "metadata": {},
   "outputs": [
    {
     "data": {
      "text/plain": [
       "REGION_CD             0\n",
       "ACCOUNT_JOINT         0\n",
       "NPA_FLAG              0\n",
       "E_BANKING_ACCOUNTS    0\n",
       "SOLO_ACCOUNTS         0\n",
       "PAYFAST_ACCOUNT       0\n",
       "LNAMOUNT              0\n",
       "dtype: int64"
      ]
     },
     "execution_count": 17,
     "metadata": {},
     "output_type": "execute_result"
    }
   ],
   "source": [
    "df.isna().sum()"
   ]
  },
  {
   "cell_type": "code",
   "execution_count": 24,
   "id": "9684a1d2",
   "metadata": {},
   "outputs": [
    {
     "name": "stdout",
     "output_type": "stream",
     "text": [
      "Cramér's V Correlation Matrix:\n",
      "                   REGION_CD ACCOUNT_JOINT  NPA_FLAG E_BANKING_ACCOUNTS  \\\n",
      "REGION_CD                1.0      0.078072  0.048668            0.16696   \n",
      "ACCOUNT_JOINT       0.078072      0.999998   0.04605           0.027012   \n",
      "NPA_FLAG            0.048668       0.04605  0.999996           0.116544   \n",
      "E_BANKING_ACCOUNTS   0.16696      0.027012  0.116544           0.999999   \n",
      "SOLO_ACCOUNTS       0.100742      0.022913  0.022529           0.226971   \n",
      "PAYFAST_ACCOUNT     0.046111      0.003702  0.139765           0.051482   \n",
      "LNAMOUNT            0.082112       0.04463   0.41821           0.297498   \n",
      "\n",
      "                   SOLO_ACCOUNTS PAYFAST_ACCOUNT  LNAMOUNT  \n",
      "REGION_CD               0.100742        0.046111  0.082112  \n",
      "ACCOUNT_JOINT           0.022913        0.003702   0.04463  \n",
      "NPA_FLAG                0.022529        0.139765   0.41821  \n",
      "E_BANKING_ACCOUNTS      0.226971        0.051482  0.297498  \n",
      "SOLO_ACCOUNTS           0.999999        0.000078  0.218082  \n",
      "PAYFAST_ACCOUNT         0.000078        0.999981  0.219642  \n",
      "LNAMOUNT                0.218082        0.219642       1.0  \n"
     ]
    }
   ],
   "source": [
    "import seaborn as sns\n",
    "from scipy.stats import chi2_contingency\n",
    "\n",
    "def cramers_v(x, y):\n",
    "    confusion_matrix = pd.crosstab(x, y)\n",
    "    chi2, _, _, _ = chi2_contingency(confusion_matrix)\n",
    "    n = confusion_matrix.sum().sum()\n",
    "    phi2 = chi2 / n\n",
    "    r, k = confusion_matrix.shape\n",
    "    phi2corr = max(0, phi2 - ((k - 1) * (r - 1)) / (n - 1))\n",
    "    rcorr = r - ((r - 1)**2) / (n - 1)\n",
    "    kcorr = k - ((k - 1)**2) / (n - 1)\n",
    "    return (phi2corr / min((kcorr - 1), (rcorr - 1)))**0.5\n",
    "\n",
    "# Calculate Cramér's V for each pair of categorical variables\n",
    "correlation_matrix = pd.DataFrame(index=df.columns, columns=df.columns)\n",
    "\n",
    "for col1 in df.columns:\n",
    "    for col2 in df.columns:\n",
    "        correlation_matrix.loc[col1, col2] = cramers_v(df[col1], df[col2])\n",
    "print(\"Cramér's V Correlation Matrix:\")\n",
    "print(correlation_matrix)\n",
    "\n"
   ]
  },
  {
   "cell_type": "code",
   "execution_count": 28,
   "id": "811c6e0a",
   "metadata": {},
   "outputs": [
    {
     "name": "stdout",
     "output_type": "stream",
     "text": [
      "Cramér's V Correlation Matrix:\n",
      "                    REGION_CD  ACCOUNT_JOINT  NPA_FLAG  E_BANKING_ACCOUNTS  \\\n",
      "REGION_CD            1.000000       0.078072  0.048668            0.166960   \n",
      "ACCOUNT_JOINT        0.078072       0.999998  0.046050            0.027012   \n",
      "NPA_FLAG             0.048668       0.046050  0.999996            0.116544   \n",
      "E_BANKING_ACCOUNTS   0.166960       0.027012  0.116544            0.999999   \n",
      "SOLO_ACCOUNTS        0.100742       0.022913  0.022529            0.226971   \n",
      "PAYFAST_ACCOUNT      0.046111       0.003702  0.139765            0.051482   \n",
      "LNAMOUNT             0.082112       0.044630  0.418210            0.297498   \n",
      "\n",
      "                    SOLO_ACCOUNTS  PAYFAST_ACCOUNT  LNAMOUNT  \n",
      "REGION_CD                0.100742         0.046111  0.082112  \n",
      "ACCOUNT_JOINT            0.022913         0.003702  0.044630  \n",
      "NPA_FLAG                 0.022529         0.139765  0.418210  \n",
      "E_BANKING_ACCOUNTS       0.226971         0.051482  0.297498  \n",
      "SOLO_ACCOUNTS            0.999999         0.000078  0.218082  \n",
      "PAYFAST_ACCOUNT          0.000078         0.999981  0.219642  \n",
      "LNAMOUNT                 0.218082         0.219642  1.000000  \n"
     ]
    },
    {
     "data": {
      "image/png": "[encoded data removed]",
      "text/plain": [
       "<Figure size 1000x800 with 2 Axes>"
      ]
     },
     "metadata": {},
     "output_type": "display_data"
    }
   ],
   "source": [
    "def cramers_v(x, y):\n",
    "    confusion_matrix = pd.crosstab(x, y)\n",
    "    chi2, _, _, _ = chi2_contingency(confusion_matrix)\n",
    "    n = confusion_matrix.sum().sum()\n",
    "    phi2 = chi2 / n\n",
    "    r, k = confusion_matrix.shape\n",
    "    phi2corr = max(0, phi2 - ((k - 1) * (r - 1)) / (n - 1))\n",
    "    rcorr = r - ((r - 1)**2) / (n - 1)\n",
    "    kcorr = k - ((k - 1)**2) / (n - 1)\n",
    "    return (phi2corr / min((kcorr - 1), (rcorr - 1)))**0.5\n",
    "\n",
    "# Calculate Cramér's V for each pair of categorical variables\n",
    "correlation_matrix = pd.DataFrame(index=df.columns, columns=df.columns)\n",
    "\n",
    "for col1 in df.columns:\n",
    "    for col2 in df.columns:\n",
    "        correlation_matrix.loc[col1, col2] = cramers_v(df[col1], df[col2])\n",
    "\n",
    "# Convert the correlation matrix to float\n",
    "correlation_matrix = correlation_matrix.astype(float)\n",
    "\n",
    "# Display the correlation matrix\n",
    "print(\"Cramér's V Correlation Matrix:\")\n",
    "print(correlation_matrix)\n",
    "\n",
    "# Plotting the heatmap\n",
    "plt.figure(figsize=(10, 8))\n",
    "sns.heatmap(correlation_matrix, annot=True, cmap=\"Blues\", fmt=\".2f\", linewidths=.5)\n",
    "plt.title(\"Cramér's V Correlation Matrix\")\n",
    "plt.show()"
   ]
  },
  {
   "cell_type": "code",
   "execution_count": null,
   "id": "828097da",
   "metadata": {},
   "outputs": [],
   "source": []
  }
 ],
 "metadata": {
  "kernelspec": {
   "display_name": "Python 3 (ipykernel)",
   "language": "python",
   "name": "python3"
  },
  "language_info": {
   "codemirror_mode": {
    "name": "ipython",
    "version": 3
   },
   "file_extension": ".py",
   "mimetype": "text/x-python",
   "name": "python",
   "nbconvert_exporter": "python",
   "pygments_lexer": "ipython3",
   "version": "3.11.3"
  }
 },
 "nbformat": 4,
 "nbformat_minor": 5
}
